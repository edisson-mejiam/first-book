{
 "cells": [
  {
   "cell_type": "markdown",
   "metadata": {},
   "source": [
    "## Histogramas"
   ]
  },
  {
   "cell_type": "code",
   "execution_count": 1,
   "metadata": {},
   "outputs": [
    {
     "data": {
      "text/plain": [
       "(array([ 3.,  0.,  3.,  3.,  9., 13., 10., 19., 25., 21., 27., 24., 10.,\n",
       "        11., 12.,  5.,  2.,  1.,  1.,  1.]),\n",
       " array([-2.9609713 , -2.65341253, -2.34585376, -2.03829499, -1.73073622,\n",
       "        -1.42317745, -1.11561868, -0.80805991, -0.50050114, -0.19294237,\n",
       "         0.1146164 ,  0.42217517,  0.72973394,  1.03729271,  1.34485148,\n",
       "         1.65241025,  1.95996902,  2.26752779,  2.57508656,  2.88264533,\n",
       "         3.1902041 ]),\n",
       " <BarContainer object of 20 artists>)"
      ]
     },
     "execution_count": 1,
     "metadata": {},
     "output_type": "execute_result"
    },
    {
     "data": {
      "image/png": "[encoded data removed]",
      "text/plain": [
       "<Figure size 432x288 with 1 Axes>"
      ]
     },
     "metadata": {
      "filenames": {
       "image/png": "/home/edisson/Documentos/UTPL/Cuarto ciclo/Desarrollo basado en plataformas web/Jupyter/my-book/_build/jupyter_execute/histograma_1_1.png"
      },
      "needs_background": "light"
     },
     "output_type": "display_data"
    }
   ],
   "source": [
    "# importar todas las funciones de pylab\n",
    "from pylab import *\n",
    "\n",
    "# importar el módulo pyplot\n",
    "import matplotlib.pyplot as plt\n",
    "\n",
    "from pylab import *      # importar todas las funciones de pylab\n",
    "# Importamos el módulo de numeros aleatorios de numpy\n",
    "from numpy import random\n",
    "\n",
    "# utilizo la función randn() del modulo random para generar\n",
    "# un array de números aleatorios con distribución normal\n",
    "nums = random.randn(200)  # array con 200 números aleatorios\n",
    "\n",
    "# generamos el histograma\n",
    "h = hist(nums)\n",
    "hist(nums, bins=20)"
   ]
  },
  {
   "cell_type": "code",
   "execution_count": null,
   "metadata": {},
   "outputs": [],
   "source": []
  }
 ],
 "metadata": {
  "kernelspec": {
   "display_name": "Python 3",
   "language": "python",
   "name": "python3"
  },
  "language_info": {
   "codemirror_mode": {
    "name": "ipython",
    "version": 3
   },
   "file_extension": ".py",
   "mimetype": "text/x-python",
   "name": "python",
   "nbconvert_exporter": "python",
   "pygments_lexer": "ipython3",
   "version": "3.8.5"
  }
 },
 "nbformat": 4,
 "nbformat_minor": 4
}